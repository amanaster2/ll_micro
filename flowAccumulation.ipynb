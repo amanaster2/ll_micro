{
 "cells": [
  {
   "cell_type": "code",
   "execution_count": 4,
   "metadata": {},
   "outputs": [],
   "source": [
    "import numpy as np\n",
    "import landlab\n",
    "from landlab import RasterModelGrid\n",
    "from landlab.io import read_esri_ascii\n",
    "from landlab.plot.imshow import imshow_grid\n",
    "\n",
    "# sums up cell areas or given runoff volume along the flow directions\n",
    "from landlab.components import FlowAccumulator\n",
    "# fills depressions along the flow path\n",
    "from landlab.components import DepressionFinderAndRouter\n",
    "# reports drainage area or flow volume of a grid\n",
    "from landlab.components.flow_accum import find_drainage_area_and_discharge"
   ]
  },
  {
   "cell_type": "code",
   "execution_count": 6,
   "metadata": {},
   "outputs": [
    {
     "data": {
      "text/plain": [
       "['topographic__elevation']"
      ]
     },
     "execution_count": 6,
     "metadata": {},
     "output_type": "execute_result"
    }
   ],
   "source": [
    "(mg,z) = read_esri_ascii(\"test.asc\", name='topographic__elevation')\n",
    "mg.at_node.keys()"
   ]
  },
  {
   "cell_type": "code",
   "execution_count": 7,
   "metadata": {},
   "outputs": [
    {
     "ename": "ValueError",
     "evalue": "zero-size array to reduction operation minimum which has no identity",
     "output_type": "error",
     "traceback": [
      "\u001b[0;31m---------------------------------------------------------------------------\u001b[0m",
      "\u001b[0;31mValueError\u001b[0m                                Traceback (most recent call last)",
      "\u001b[1;32m/home/adalvis/github/ll_micro/flowAccumulation.ipynb Cell 3\u001b[0m line \u001b[0;36m1\n\u001b[0;32m----> <a href='vscode-notebook-cell://wsl%2Bubuntu/home/adalvis/github/ll_micro/flowAccumulation.ipynb#W2sdnNjb2RlLXJlbW90ZQ%3D%3D?line=0'>1</a>\u001b[0m mg\u001b[39m.\u001b[39;49mset_watershed_boundary_condition(z)\n",
      "File \u001b[0;32m~/github/landlab/landlab/grid/raster.py:1930\u001b[0m, in \u001b[0;36mRasterModelGrid.set_watershed_boundary_condition\u001b[0;34m(self, node_data, nodata_value, return_outlet_id, remove_disconnected, adjacency_method)\u001b[0m\n\u001b[1;32m   1927\u001b[0m     \u001b[39mraise\u001b[39;00m \u001b[39mValueError\u001b[39;00m(\u001b[39m\"\u001b[39m\u001b[39mAll data values are no_data values\u001b[39m\u001b[39m\"\u001b[39m)\n\u001b[1;32m   1929\u001b[0m \u001b[39m# now find minimum of the data values\u001b[39;00m\n\u001b[0;32m-> 1930\u001b[0m min_val \u001b[39m=\u001b[39m np\u001b[39m.\u001b[39;49mmin(node_data[locs])\n\u001b[1;32m   1932\u001b[0m \u001b[39m# now find where minimum values are\u001b[39;00m\n\u001b[1;32m   1933\u001b[0m min_locs \u001b[39m=\u001b[39m np\u001b[39m.\u001b[39mwhere(node_data \u001b[39m==\u001b[39m min_val)[\u001b[39m0\u001b[39m]\n",
      "File \u001b[0;32m~/anaconda3/envs/landlab/lib/python3.12/site-packages/numpy/core/fromnumeric.py:2953\u001b[0m, in \u001b[0;36mmin\u001b[0;34m(a, axis, out, keepdims, initial, where)\u001b[0m\n\u001b[1;32m   2836\u001b[0m \u001b[39m@array_function_dispatch\u001b[39m(_min_dispatcher)\n\u001b[1;32m   2837\u001b[0m \u001b[39mdef\u001b[39;00m \u001b[39mmin\u001b[39m(a, axis\u001b[39m=\u001b[39m\u001b[39mNone\u001b[39;00m, out\u001b[39m=\u001b[39m\u001b[39mNone\u001b[39;00m, keepdims\u001b[39m=\u001b[39mnp\u001b[39m.\u001b[39m_NoValue, initial\u001b[39m=\u001b[39mnp\u001b[39m.\u001b[39m_NoValue,\n\u001b[1;32m   2838\u001b[0m         where\u001b[39m=\u001b[39mnp\u001b[39m.\u001b[39m_NoValue):\n\u001b[1;32m   2839\u001b[0m \u001b[39m    \u001b[39m\u001b[39m\"\"\"\u001b[39;00m\n\u001b[1;32m   2840\u001b[0m \u001b[39m    Return the minimum of an array or minimum along an axis.\u001b[39;00m\n\u001b[1;32m   2841\u001b[0m \n\u001b[0;32m   (...)\u001b[0m\n\u001b[1;32m   2951\u001b[0m \u001b[39m    6\u001b[39;00m\n\u001b[1;32m   2952\u001b[0m \u001b[39m    \"\"\"\u001b[39;00m\n\u001b[0;32m-> 2953\u001b[0m     \u001b[39mreturn\u001b[39;00m _wrapreduction(a, np\u001b[39m.\u001b[39;49mminimum, \u001b[39m'\u001b[39;49m\u001b[39mmin\u001b[39;49m\u001b[39m'\u001b[39;49m, axis, \u001b[39mNone\u001b[39;49;00m, out,\n\u001b[1;32m   2954\u001b[0m                           keepdims\u001b[39m=\u001b[39;49mkeepdims, initial\u001b[39m=\u001b[39;49minitial, where\u001b[39m=\u001b[39;49mwhere)\n",
      "File \u001b[0;32m~/anaconda3/envs/landlab/lib/python3.12/site-packages/numpy/core/fromnumeric.py:88\u001b[0m, in \u001b[0;36m_wrapreduction\u001b[0;34m(obj, ufunc, method, axis, dtype, out, **kwargs)\u001b[0m\n\u001b[1;32m     85\u001b[0m         \u001b[39melse\u001b[39;00m:\n\u001b[1;32m     86\u001b[0m             \u001b[39mreturn\u001b[39;00m reduction(axis\u001b[39m=\u001b[39maxis, out\u001b[39m=\u001b[39mout, \u001b[39m*\u001b[39m\u001b[39m*\u001b[39mpasskwargs)\n\u001b[0;32m---> 88\u001b[0m \u001b[39mreturn\u001b[39;00m ufunc\u001b[39m.\u001b[39;49mreduce(obj, axis, dtype, out, \u001b[39m*\u001b[39;49m\u001b[39m*\u001b[39;49mpasskwargs)\n",
      "\u001b[0;31mValueError\u001b[0m: zero-size array to reduction operation minimum which has no identity"
     ]
    }
   ],
   "source": [
    "mg.set_watershed_boundary_condition(z)"
   ]
  },
  {
   "cell_type": "code",
   "execution_count": 56,
   "metadata": {},
   "outputs": [],
   "source": [
    "fa = FlowAccumulator(mg,\n",
    "                     surface='topographic__elevation',\n",
    "                     flow_director='FlowDirectorD8',\n",
    "                     runoff_rate=0.01, # suppose there is 1 cm runoff generated in all grid cells\n",
    "                     depression_finder='DepressionFinderAndRouter')"
   ]
  },
  {
   "cell_type": "code",
   "execution_count": 57,
   "metadata": {},
   "outputs": [],
   "source": [
    "(drainage_area, discharge) = fa.accumulate_flow()"
   ]
  },
  {
   "cell_type": "code",
   "execution_count": 8,
   "metadata": {},
   "outputs": [],
   "source": [
    "S = mg.calc_slope_at_node(z)   # let's call this a slope field and add it to the grid\n",
    "_=mg.add_field('node','Slope',S, clobber=True)  "
   ]
  },
  {
   "cell_type": "code",
   "execution_count": 10,
   "metadata": {},
   "outputs": [
    {
     "ename": "TypeError",
     "evalue": "unable to determine location of values, use 'at' keyword",
     "output_type": "error",
     "traceback": [
      "\u001b[0;31m---------------------------------------------------------------------------\u001b[0m",
      "\u001b[0;31mTypeError\u001b[0m                                 Traceback (most recent call last)",
      "\u001b[1;32m/home/adalvis/github/ll_micro/flowAccumulation.ipynb Cell 7\u001b[0m line \u001b[0;36m1\n\u001b[0;32m----> <a href='vscode-notebook-cell://wsl%2Bubuntu/home/adalvis/github/ll_micro/flowAccumulation.ipynb#W6sdnNjb2RlLXJlbW90ZQ%3D%3D?line=0'>1</a>\u001b[0m imshow_grid(mg,\u001b[39m'\u001b[39;49m\u001b[39msurface_water__discharge\u001b[39;49m\u001b[39m'\u001b[39;49m, plot_name \u001b[39m=\u001b[39;49m \u001b[39m'\u001b[39;49m\u001b[39mDischarge\u001b[39;49m\u001b[39m'\u001b[39;49m)\n",
      "File \u001b[0;32m~/github/landlab/landlab/plot/imshow.py:525\u001b[0m, in \u001b[0;36mimshow_grid\u001b[0;34m(grid, values, **kwds)\u001b[0m\n\u001b[1;32m    522\u001b[0m     values_at \u001b[39m=\u001b[39m _guess_location(grid, values)\n\u001b[1;32m    524\u001b[0m \u001b[39mif\u001b[39;00m values_at \u001b[39mis\u001b[39;00m \u001b[39mNone\u001b[39;00m:\n\u001b[0;32m--> 525\u001b[0m     \u001b[39mraise\u001b[39;00m \u001b[39mTypeError\u001b[39;00m(\u001b[39m\"\u001b[39m\u001b[39munable to determine location of values, use \u001b[39m\u001b[39m'\u001b[39m\u001b[39mat\u001b[39m\u001b[39m'\u001b[39m\u001b[39m keyword\u001b[39m\u001b[39m\"\u001b[39m)\n\u001b[1;32m    526\u001b[0m \u001b[39melif\u001b[39;00m values_at \u001b[39mnot\u001b[39;00m \u001b[39min\u001b[39;00m {\u001b[39m\"\u001b[39m\u001b[39mnode\u001b[39m\u001b[39m\"\u001b[39m, \u001b[39m\"\u001b[39m\u001b[39mcell\u001b[39m\u001b[39m\"\u001b[39m}:\n\u001b[1;32m    527\u001b[0m     \u001b[39mraise\u001b[39;00m \u001b[39mTypeError\u001b[39;00m(\n\u001b[1;32m    528\u001b[0m         \u001b[39mf\u001b[39m\u001b[39m\"\u001b[39m\u001b[39mvalue location, \u001b[39m\u001b[39m{\u001b[39;00mvalues_at\u001b[39m!r}\u001b[39;00m\u001b[39m, is not supported (must be one of \u001b[39m\u001b[39m'\u001b[39m\u001b[39mnode\u001b[39m\u001b[39m'\u001b[39m\u001b[39m, \u001b[39m\u001b[39m'\u001b[39m\u001b[39mcell\u001b[39m\u001b[39m'\u001b[39m\u001b[39m)\u001b[39m\u001b[39m\"\u001b[39m\n\u001b[1;32m    529\u001b[0m     )\n",
      "\u001b[0;31mTypeError\u001b[0m: unable to determine location of values, use 'at' keyword"
     ]
    }
   ],
   "source": [
    "imshow_grid(mg,'surface_water__discharge', plot_name = 'Discharge')"
   ]
  },
  {
   "cell_type": "code",
   "execution_count": 11,
   "metadata": {},
   "outputs": [
    {
     "data": {
      "text/plain": [
       "['topographic__elevation', 'Slope']"
      ]
     },
     "execution_count": 11,
     "metadata": {},
     "output_type": "execute_result"
    }
   ],
   "source": [
    "mg.at_node.keys()"
   ]
  },
  {
   "cell_type": "code",
   "execution_count": 12,
   "metadata": {},
   "outputs": [
    {
     "data": {
      "image/png": "[encoded data removed]",
      "text/plain": [
       "<Figure size 640x480 with 2 Axes>"
      ]
     },
     "metadata": {},
     "output_type": "display_data"
    }
   ],
   "source": [
    "imshow_grid(mg,'topographic__elevation',plot_name='Elevation')"
   ]
  },
  {
   "cell_type": "code",
   "execution_count": null,
   "metadata": {},
   "outputs": [],
   "source": []
  }
 ],
 "metadata": {
  "kernelspec": {
   "display_name": "landlab",
   "language": "python",
   "name": "python3"
  },
  "language_info": {
   "codemirror_mode": {
    "name": "ipython",
    "version": 3
   },
   "file_extension": ".py",
   "mimetype": "text/x-python",
   "name": "python",
   "nbconvert_exporter": "python",
   "pygments_lexer": "ipython3",
   "version": "3.12.0"
  }
 },
 "nbformat": 4,
 "nbformat_minor": 2
}
